{
 "cells": [
  {
   "cell_type": "code",
   "execution_count": 17,
   "metadata": {},
   "outputs": [],
   "source": [
    "import pdfplumber\n",
    "import json_repair\n",
    "import pandas as pd\n",
    "def extract_text_from_pdf(pdf_path):\n",
    "    txt = ''\n",
    "    with pdfplumber.open(pdf_path) as pdf:\n",
    "        for page in pdf.pages:\n",
    "            txt += page.extract_text()\n",
    "    return txt"
   ]
  },
  {
   "cell_type": "code",
   "execution_count": 18,
   "metadata": {},
   "outputs": [
    {
     "name": "stdout",
     "output_type": "stream",
     "text": [
      "Loaded as API: https://qwen-qwen2-72b-instruct.hf.space ✔\n"
     ]
    }
   ],
   "source": [
    "from gradio_client import Client\n",
    "\n",
    "client = Client(\"Qwen/Qwen2-72B-Instruct\")\n",
    "\n",
    "def chatbot(prompt,input_text):\n",
    "    result = client.predict(\n",
    "        query=input_text,\n",
    "        history=[],\n",
    "        system=prompt,\n",
    "        api_name=\"/model_chat\"\n",
    "    )\n",
    "    return result[1][0][1]\n"
   ]
  },
  {
   "cell_type": "code",
   "execution_count": 19,
   "metadata": {},
   "outputs": [],
   "source": [
    "prompt = '''请帮我从下面这篇周报中总结作者读的论文。其中write_date为date_range的最后一天,除了论文标题和期刊名称用英文外，总结用中文。返回格式：\n",
    "```json\n",
    "{\n",
    "    date_range: \"yyyy.mm.dd-yyyy.mm.dd\",\n",
    "    write_date: \"yyyy-mm-dd\",\n",
    "    papers: [\n",
    "        {\n",
    "            \"title\": \"论文名称\",\n",
    "            \"journal\": \"期刊名称\",\n",
    "            \"content\": \"一句话总结\",\n",
    "            \"conclusion\": \"一句话总结\",\n",
    "            \"gain\": \"一句话总结\"\n",
    "        },\n",
    "        {\n",
    "            \"title\": \"论文名称\",\n",
    "            \"journal\": \"期刊名称\",\n",
    "            \"content\": \"一句话总结\",\n",
    "            \"conclusion\": \"一句话总结\",\n",
    "            \"gain\": \"一句话总结\"\n",
    "        }\n",
    "    ]\n",
    "}\n",
    "```\n",
    "'''"
   ]
  },
  {
   "cell_type": "code",
   "execution_count": 28,
   "metadata": {},
   "outputs": [],
   "source": [
    "def summarize_weekly(result,image_files):\n",
    "    paperstr = pd.DataFrame(result['papers']).to_markdown(index=False)\n",
    "\n",
    "    mdstr = f'''---\n",
    "title: '周小结({result[\"date_range\"]})'\n",
    "date: {result[\"write_date\"]}\n",
    "permalink: /posts/{result[\"write_date\"]}_week/\n",
    "---\n",
    "{paperstr}\n",
    "\n",
    "\n",
    "''' + '\\n'.join([f'![image](/{image})' for image in image_files])\n",
    "    return mdstr"
   ]
  },
  {
   "cell_type": "code",
   "execution_count": 29,
   "metadata": {},
   "outputs": [],
   "source": [
    "from glob import glob\n",
    "import os\n",
    "import shutil\n",
    "import json\n",
    "from pdf2image import convert_from_path\n",
    "\n",
    "for pdf in glob(\"files/post1/*.pdf\"):\n",
    "    text = extract_text_from_pdf(pdf)\n",
    "    result = chatbot(prompt,text)\n",
    "    result = json_repair.loads(result)\n",
    "    new_name = \"files/post/\" + result[\"write_date\"] + \"-week.pdf\"\n",
    "    os.rename(pdf,new_name)\n",
    "    images = convert_from_path(new_name,dpi=200)\n",
    "    image_files = []\n",
    "    for i,image in enumerate(images):\n",
    "        os.makedirs(\"files/post/\" + result[\"write_date\"] + \"-week\",exist_ok=True)\n",
    "        image_path = \"files/post/\" + result[\"write_date\"] + \"-week/\" + str(i) + \".jpg\"\n",
    "        image.save(image_path,'JPEG', quality=95)\n",
    "        image_files.append(image_path)\n",
    "    summarize_path = \"_posts/\" + result[\"write_date\"] + \"-week.md\"\n",
    "    summarize = summarize_weekly(result,image_files)\n",
    "    with open(summarize_path,\"w\") as f:\n",
    "        f.write(summarize)\n",
    "\n"
   ]
  },
  {
   "cell_type": "markdown",
   "metadata": {},
   "source": [
    "# 将PDF转为图片格式"
   ]
  },
  {
   "cell_type": "code",
   "execution_count": 13,
   "metadata": {},
   "outputs": [],
   "source": [
    "\n",
    "import glob"
   ]
  },
  {
   "cell_type": "code",
   "execution_count": 15,
   "metadata": {},
   "outputs": [],
   "source": [
    "for pdf in glob.glob(\"files/post/*.pdf\"):\n",
    "    images = convert_from_path(pdf, dpi=160)\n",
    "    basename = os.path.basename(pdf).replace(\".pdf\",\"\")\n",
    "    for i, image in enumerate(images):\n",
    "        os.mkdir(f'files/post/{basename}') if not os.path.exists(f'files/post/{basename}') else None\n",
    "        image.save(f'files/post/{basename}/{i}.jpg', 'JPEG', quality=95)"
   ]
  }
 ],
 "metadata": {
  "kernelspec": {
   "display_name": "Python 3",
   "language": "python",
   "name": "python3"
  },
  "language_info": {
   "codemirror_mode": {
    "name": "ipython",
    "version": 3
   },
   "file_extension": ".py",
   "mimetype": "text/x-python",
   "name": "python",
   "nbconvert_exporter": "python",
   "pygments_lexer": "ipython3",
   "version": "3.10.13"
  }
 },
 "nbformat": 4,
 "nbformat_minor": 2
}
